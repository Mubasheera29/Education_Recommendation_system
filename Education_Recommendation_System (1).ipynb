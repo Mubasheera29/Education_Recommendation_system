{
 "cells": [
  {
   "cell_type": "raw",
   "metadata": {
    "colab": {
     "base_uri": "https://localhost:8080/",
     "height": 226
    },
    "id": "7aznveViW3lD",
    "outputId": "6cba233c-c7f7-474e-f2a9-f187604d38a6"
   },
   "source": [
    "import pandas as pd\n",
    "\n",
    "df = pd.read_csv(\"student-scores.csv\")\n",
    "df.head()"
   ]
  },
  {
   "cell_type": "code",
   "execution_count": 2,
   "metadata": {
    "id": "yPYdnQs5W72O"
   },
   "outputs": [],
   "source": [
    "df.drop(columns=['id','first_name','last_name','email'],axis=1,inplace=True)"
   ]
  },
  {
   "cell_type": "code",
   "execution_count": 3,
   "metadata": {
    "colab": {
     "base_uri": "https://localhost:8080/"
    },
    "id": "7n85g_tHW-Pz",
    "outputId": "b39a88ce-c7e5-4f68-f9df-00cc01d2449d"
   },
   "outputs": [
    {
     "data": {
      "text/plain": [
       "(2000, 13)"
      ]
     },
     "execution_count": 3,
     "metadata": {},
     "output_type": "execute_result"
    }
   ],
   "source": [
    "df.shape"
   ]
  },
  {
   "cell_type": "code",
   "execution_count": 4,
   "metadata": {
    "colab": {
     "base_uri": "https://localhost:8080/",
     "height": 226
    },
    "id": "TKjlKnshW_tn",
    "outputId": "62ffe654-a7c5-4f48-cd18-9d630b5d10c4"
   },
   "outputs": [
    {
     "data": {
      "text/html": [
       "<div>\n",
       "<style scoped>\n",
       "    .dataframe tbody tr th:only-of-type {\n",
       "        vertical-align: middle;\n",
       "    }\n",
       "\n",
       "    .dataframe tbody tr th {\n",
       "        vertical-align: top;\n",
       "    }\n",
       "\n",
       "    .dataframe thead th {\n",
       "        text-align: right;\n",
       "    }\n",
       "</style>\n",
       "<table border=\"1\" class=\"dataframe\">\n",
       "  <thead>\n",
       "    <tr style=\"text-align: right;\">\n",
       "      <th></th>\n",
       "      <th>gender</th>\n",
       "      <th>part_time_job</th>\n",
       "      <th>absence_days</th>\n",
       "      <th>extracurricular_activities</th>\n",
       "      <th>weekly_self_study_hours</th>\n",
       "      <th>career_aspiration</th>\n",
       "      <th>math_score</th>\n",
       "      <th>history_score</th>\n",
       "      <th>physics_score</th>\n",
       "      <th>chemistry_score</th>\n",
       "      <th>biology_score</th>\n",
       "      <th>english_score</th>\n",
       "      <th>geography_score</th>\n",
       "      <th>total_score</th>\n",
       "      <th>average_score</th>\n",
       "    </tr>\n",
       "  </thead>\n",
       "  <tbody>\n",
       "    <tr>\n",
       "      <th>0</th>\n",
       "      <td>male</td>\n",
       "      <td>False</td>\n",
       "      <td>3</td>\n",
       "      <td>False</td>\n",
       "      <td>27</td>\n",
       "      <td>Lawyer</td>\n",
       "      <td>73</td>\n",
       "      <td>81</td>\n",
       "      <td>93</td>\n",
       "      <td>97</td>\n",
       "      <td>63</td>\n",
       "      <td>80</td>\n",
       "      <td>87</td>\n",
       "      <td>574</td>\n",
       "      <td>82.000000</td>\n",
       "    </tr>\n",
       "    <tr>\n",
       "      <th>1</th>\n",
       "      <td>female</td>\n",
       "      <td>False</td>\n",
       "      <td>2</td>\n",
       "      <td>False</td>\n",
       "      <td>47</td>\n",
       "      <td>Doctor</td>\n",
       "      <td>90</td>\n",
       "      <td>86</td>\n",
       "      <td>96</td>\n",
       "      <td>100</td>\n",
       "      <td>90</td>\n",
       "      <td>88</td>\n",
       "      <td>90</td>\n",
       "      <td>640</td>\n",
       "      <td>91.428571</td>\n",
       "    </tr>\n",
       "    <tr>\n",
       "      <th>2</th>\n",
       "      <td>female</td>\n",
       "      <td>False</td>\n",
       "      <td>9</td>\n",
       "      <td>True</td>\n",
       "      <td>13</td>\n",
       "      <td>Government Officer</td>\n",
       "      <td>81</td>\n",
       "      <td>97</td>\n",
       "      <td>95</td>\n",
       "      <td>96</td>\n",
       "      <td>65</td>\n",
       "      <td>77</td>\n",
       "      <td>94</td>\n",
       "      <td>605</td>\n",
       "      <td>86.428571</td>\n",
       "    </tr>\n",
       "    <tr>\n",
       "      <th>3</th>\n",
       "      <td>female</td>\n",
       "      <td>False</td>\n",
       "      <td>5</td>\n",
       "      <td>False</td>\n",
       "      <td>3</td>\n",
       "      <td>Artist</td>\n",
       "      <td>71</td>\n",
       "      <td>74</td>\n",
       "      <td>88</td>\n",
       "      <td>80</td>\n",
       "      <td>89</td>\n",
       "      <td>63</td>\n",
       "      <td>86</td>\n",
       "      <td>551</td>\n",
       "      <td>78.714286</td>\n",
       "    </tr>\n",
       "    <tr>\n",
       "      <th>4</th>\n",
       "      <td>male</td>\n",
       "      <td>False</td>\n",
       "      <td>5</td>\n",
       "      <td>False</td>\n",
       "      <td>10</td>\n",
       "      <td>Unknown</td>\n",
       "      <td>84</td>\n",
       "      <td>77</td>\n",
       "      <td>65</td>\n",
       "      <td>65</td>\n",
       "      <td>80</td>\n",
       "      <td>74</td>\n",
       "      <td>76</td>\n",
       "      <td>521</td>\n",
       "      <td>74.428571</td>\n",
       "    </tr>\n",
       "  </tbody>\n",
       "</table>\n",
       "</div>"
      ],
      "text/plain": [
       "   gender  part_time_job  absence_days  extracurricular_activities  \\\n",
       "0    male          False             3                       False   \n",
       "1  female          False             2                       False   \n",
       "2  female          False             9                        True   \n",
       "3  female          False             5                       False   \n",
       "4    male          False             5                       False   \n",
       "\n",
       "   weekly_self_study_hours   career_aspiration  math_score  history_score  \\\n",
       "0                       27              Lawyer          73             81   \n",
       "1                       47              Doctor          90             86   \n",
       "2                       13  Government Officer          81             97   \n",
       "3                        3              Artist          71             74   \n",
       "4                       10             Unknown          84             77   \n",
       "\n",
       "   physics_score  chemistry_score  biology_score  english_score  \\\n",
       "0             93               97             63             80   \n",
       "1             96              100             90             88   \n",
       "2             95               96             65             77   \n",
       "3             88               80             89             63   \n",
       "4             65               65             80             74   \n",
       "\n",
       "   geography_score  total_score  average_score  \n",
       "0               87          574      82.000000  \n",
       "1               90          640      91.428571  \n",
       "2               94          605      86.428571  \n",
       "3               86          551      78.714286  \n",
       "4               76          521      74.428571  "
      ]
     },
     "execution_count": 4,
     "metadata": {},
     "output_type": "execute_result"
    }
   ],
   "source": [
    "df[\"total_score\"] = df[\"math_score\"] + df[\"history_score\"] + df[\"physics_score\"] + df[\"chemistry_score\"] + df[\"biology_score\"] + df[\"english_score\"] + df[\"geography_score\"]\n",
    "df[\"average_score\"] = df[\"total_score\"] / 7\n",
    "df.head()"
   ]
  },
  {
   "cell_type": "code",
   "execution_count": 5,
   "metadata": {
    "colab": {
     "base_uri": "https://localhost:8080/",
     "height": 226
    },
    "id": "9CZQea0tXBUO",
    "outputId": "818331bb-c991-409d-9345-42cd6b3e5218"
   },
   "outputs": [
    {
     "data": {
      "text/html": [
       "<div>\n",
       "<style scoped>\n",
       "    .dataframe tbody tr th:only-of-type {\n",
       "        vertical-align: middle;\n",
       "    }\n",
       "\n",
       "    .dataframe tbody tr th {\n",
       "        vertical-align: top;\n",
       "    }\n",
       "\n",
       "    .dataframe thead th {\n",
       "        text-align: right;\n",
       "    }\n",
       "</style>\n",
       "<table border=\"1\" class=\"dataframe\">\n",
       "  <thead>\n",
       "    <tr style=\"text-align: right;\">\n",
       "      <th></th>\n",
       "      <th>gender</th>\n",
       "      <th>part_time_job</th>\n",
       "      <th>absence_days</th>\n",
       "      <th>extracurricular_activities</th>\n",
       "      <th>weekly_self_study_hours</th>\n",
       "      <th>career_aspiration</th>\n",
       "      <th>math_score</th>\n",
       "      <th>history_score</th>\n",
       "      <th>physics_score</th>\n",
       "      <th>chemistry_score</th>\n",
       "      <th>biology_score</th>\n",
       "      <th>english_score</th>\n",
       "      <th>geography_score</th>\n",
       "      <th>total_score</th>\n",
       "      <th>average_score</th>\n",
       "    </tr>\n",
       "  </thead>\n",
       "  <tbody>\n",
       "    <tr>\n",
       "      <th>0</th>\n",
       "      <td>1</td>\n",
       "      <td>0</td>\n",
       "      <td>3</td>\n",
       "      <td>0</td>\n",
       "      <td>27</td>\n",
       "      <td>9</td>\n",
       "      <td>73</td>\n",
       "      <td>81</td>\n",
       "      <td>93</td>\n",
       "      <td>97</td>\n",
       "      <td>63</td>\n",
       "      <td>80</td>\n",
       "      <td>87</td>\n",
       "      <td>574</td>\n",
       "      <td>82.000000</td>\n",
       "    </tr>\n",
       "    <tr>\n",
       "      <th>1</th>\n",
       "      <td>0</td>\n",
       "      <td>0</td>\n",
       "      <td>2</td>\n",
       "      <td>0</td>\n",
       "      <td>47</td>\n",
       "      <td>6</td>\n",
       "      <td>90</td>\n",
       "      <td>86</td>\n",
       "      <td>96</td>\n",
       "      <td>100</td>\n",
       "      <td>90</td>\n",
       "      <td>88</td>\n",
       "      <td>90</td>\n",
       "      <td>640</td>\n",
       "      <td>91.428571</td>\n",
       "    </tr>\n",
       "    <tr>\n",
       "      <th>2</th>\n",
       "      <td>0</td>\n",
       "      <td>0</td>\n",
       "      <td>9</td>\n",
       "      <td>1</td>\n",
       "      <td>13</td>\n",
       "      <td>8</td>\n",
       "      <td>81</td>\n",
       "      <td>97</td>\n",
       "      <td>95</td>\n",
       "      <td>96</td>\n",
       "      <td>65</td>\n",
       "      <td>77</td>\n",
       "      <td>94</td>\n",
       "      <td>605</td>\n",
       "      <td>86.428571</td>\n",
       "    </tr>\n",
       "    <tr>\n",
       "      <th>3</th>\n",
       "      <td>0</td>\n",
       "      <td>0</td>\n",
       "      <td>5</td>\n",
       "      <td>0</td>\n",
       "      <td>3</td>\n",
       "      <td>1</td>\n",
       "      <td>71</td>\n",
       "      <td>74</td>\n",
       "      <td>88</td>\n",
       "      <td>80</td>\n",
       "      <td>89</td>\n",
       "      <td>63</td>\n",
       "      <td>86</td>\n",
       "      <td>551</td>\n",
       "      <td>78.714286</td>\n",
       "    </tr>\n",
       "    <tr>\n",
       "      <th>4</th>\n",
       "      <td>1</td>\n",
       "      <td>0</td>\n",
       "      <td>5</td>\n",
       "      <td>0</td>\n",
       "      <td>10</td>\n",
       "      <td>15</td>\n",
       "      <td>84</td>\n",
       "      <td>77</td>\n",
       "      <td>65</td>\n",
       "      <td>65</td>\n",
       "      <td>80</td>\n",
       "      <td>74</td>\n",
       "      <td>76</td>\n",
       "      <td>521</td>\n",
       "      <td>74.428571</td>\n",
       "    </tr>\n",
       "  </tbody>\n",
       "</table>\n",
       "</div>"
      ],
      "text/plain": [
       "   gender  part_time_job  absence_days  extracurricular_activities  \\\n",
       "0       1              0             3                           0   \n",
       "1       0              0             2                           0   \n",
       "2       0              0             9                           1   \n",
       "3       0              0             5                           0   \n",
       "4       1              0             5                           0   \n",
       "\n",
       "   weekly_self_study_hours  career_aspiration  math_score  history_score  \\\n",
       "0                       27                  9          73             81   \n",
       "1                       47                  6          90             86   \n",
       "2                       13                  8          81             97   \n",
       "3                        3                  1          71             74   \n",
       "4                       10                 15          84             77   \n",
       "\n",
       "   physics_score  chemistry_score  biology_score  english_score  \\\n",
       "0             93               97             63             80   \n",
       "1             96              100             90             88   \n",
       "2             95               96             65             77   \n",
       "3             88               80             89             63   \n",
       "4             65               65             80             74   \n",
       "\n",
       "   geography_score  total_score  average_score  \n",
       "0               87          574      82.000000  \n",
       "1               90          640      91.428571  \n",
       "2               94          605      86.428571  \n",
       "3               86          551      78.714286  \n",
       "4               76          521      74.428571  "
      ]
     },
     "execution_count": 5,
     "metadata": {},
     "output_type": "execute_result"
    }
   ],
   "source": [
    "from sklearn.preprocessing import LabelEncoder\n",
    "\n",
    "# Assuming your dataframe is named 'df'\n",
    "\n",
    "# List of categorical columns to encode\n",
    "categorical_columns = ['gender', 'part_time_job', 'extracurricular_activities', 'career_aspiration']\n",
    "\n",
    "# Initialize the LabelEncoder\n",
    "label_encoder = LabelEncoder()\n",
    "\n",
    "# Apply LabelEncoder to each categorical column\n",
    "for col in categorical_columns:\n",
    "    df[col] = label_encoder.fit_transform(df[col])\n",
    "\n",
    "# Check the encoded data\n",
    "df.head()\n"
   ]
  },
  {
   "cell_type": "code",
   "execution_count": 6,
   "metadata": {
    "colab": {
     "base_uri": "https://localhost:8080/"
    },
    "id": "IVfhzZfjXDfM",
    "outputId": "d912ee89-43e6-4a91-ecc9-652a147c97cc"
   },
   "outputs": [
    {
     "name": "stdout",
     "output_type": "stream",
     "text": [
      "career_aspiration\n",
      "12    315\n",
      "3     309\n",
      "15    223\n",
      "2     169\n",
      "9     138\n",
      "0     126\n",
      "6     119\n",
      "10     83\n",
      "13     73\n",
      "4      68\n",
      "1      67\n",
      "7      63\n",
      "8      61\n",
      "14     59\n",
      "5      56\n",
      "11     39\n",
      "16     32\n",
      "Name: count, dtype: int64\n"
     ]
    }
   ],
   "source": [
    "# Assuming your dataframe is named 'df' and you want to get unique values for the column 'career_aspiration'\n",
    "\n",
    "unique_counts = df['career_aspiration'].value_counts()\n",
    "\n",
    "# Display the unique values and their counts\n",
    "print(unique_counts)\n"
   ]
  },
  {
   "cell_type": "code",
   "execution_count": 7,
   "metadata": {
    "colab": {
     "base_uri": "https://localhost:8080/"
    },
    "id": "LuW_qdQjXFcQ",
    "outputId": "c3e353d2-02f4-4104-82c6-38888edabdf3"
   },
   "outputs": [
    {
     "name": "stdout",
     "output_type": "stream",
     "text": [
      "career_aspiration\n",
      "14    314\n",
      "5     314\n",
      "7     314\n",
      "16    314\n",
      "4     313\n",
      "13    313\n",
      "11    313\n",
      "8     312\n",
      "6     312\n",
      "10    311\n",
      "1     311\n",
      "9     310\n",
      "0     310\n",
      "3     308\n",
      "2     307\n",
      "15    299\n",
      "12    292\n",
      "Name: count, dtype: int64\n"
     ]
    }
   ],
   "source": [
    "from imblearn.combine import SMOTETomek\n",
    "import pandas as pd\n",
    "\n",
    "# Assuming 'df' is your DataFrame with features and the target variable\n",
    "X = df.drop('career_aspiration', axis=1)  # Features (all columns except target)\n",
    "y = df['career_aspiration']  # Target variable\n",
    "\n",
    "# Initialize SMOTE + Tomek with a fixed random seed for reproducibility\n",
    "random_seed = 42  # You can set this to any integer value\n",
    "smote_tomek = SMOTETomek(random_state=random_seed)\n",
    "\n",
    "# Fit and resample the dataset\n",
    "X_resampled, y_resampled = smote_tomek.fit_resample(X, y)\n",
    "\n",
    "# Update 'df' with the balanced data\n",
    "df = pd.DataFrame(X_resampled, columns=X.columns)\n",
    "df['career_aspiration'] = y_resampled\n",
    "\n",
    "# Check the distribution of the target variable after balancing\n",
    "print(df['career_aspiration'].value_counts())\n"
   ]
  },
  {
   "cell_type": "code",
   "execution_count": 8,
   "metadata": {
    "colab": {
     "base_uri": "https://localhost:8080/"
    },
    "id": "T7OMbU19XK4u",
    "outputId": "4e457363-7560-4b37-c542-3419b89a293c"
   },
   "outputs": [
    {
     "data": {
      "text/plain": [
       "(5267,)"
      ]
     },
     "execution_count": 8,
     "metadata": {},
     "output_type": "execute_result"
    }
   ],
   "source": [
    "y_resampled.shape"
   ]
  },
  {
   "cell_type": "code",
   "execution_count": 9,
   "metadata": {
    "id": "NkXvhup7Xx_6"
   },
   "outputs": [],
   "source": [
    "from sklearn.model_selection import train_test_split\n",
    "\n",
    "\n",
    "\n",
    "X_train, X_test, y_train, y_test = train_test_split(X, y, test_size=0.2, random_state=42)"
   ]
  },
  {
   "cell_type": "code",
   "execution_count": 10,
   "metadata": {
    "colab": {
     "base_uri": "https://localhost:8080/"
    },
    "id": "90VUza-cYP8r",
    "outputId": "dba68778-0e53-4e7a-dd51-3129f6299291"
   },
   "outputs": [
    {
     "data": {
      "text/plain": [
       "((1600, 14), (1600,), (400, 14), (400,))"
      ]
     },
     "execution_count": 10,
     "metadata": {},
     "output_type": "execute_result"
    }
   ],
   "source": [
    "X_train.shape, y_train.shape, X_test.shape, y_test.shape"
   ]
  },
  {
   "cell_type": "markdown",
   "metadata": {
    "id": "xLW9toOSYvfP"
   },
   "source": [
    "Feature Scaling"
   ]
  },
  {
   "cell_type": "code",
   "execution_count": 11,
   "metadata": {
    "id": "MF9wUvXUY6Y7"
   },
   "outputs": [],
   "source": [
    "from sklearn.preprocessing import StandardScaler\n",
    "\n",
    "scaler = StandardScaler()\n",
    "X_train_scaled = scaler.fit_transform(X_train)\n",
    "X_test_scaled = scaler.transform(X_test)"
   ]
  },
  {
   "cell_type": "code",
   "execution_count": 14,
   "metadata": {
    "colab": {
     "base_uri": "https://localhost:8080/"
    },
    "id": "XDkgzSDRZPY-",
    "outputId": "375834c5-2c41-477e-8af8-3407cafec219"
   },
   "outputs": [
    {
     "name": "stdout",
     "output_type": "stream",
     "text": [
      "==================================================\n",
      "Model: Logistic Regression\n"
     ]
    },
    {
     "name": "stderr",
     "output_type": "stream",
     "text": [
      "C:\\ProgramData\\anaconda3\\Lib\\site-packages\\sklearn\\metrics\\_classification.py:1565: UndefinedMetricWarning: Precision is ill-defined and being set to 0.0 in labels with no predicted samples. Use `zero_division` parameter to control this behavior.\n",
      "  _warn_prf(average, modifier, f\"{metric.capitalize()} is\", len(result))\n",
      "C:\\ProgramData\\anaconda3\\Lib\\site-packages\\sklearn\\metrics\\_classification.py:1565: UndefinedMetricWarning: Precision is ill-defined and being set to 0.0 in labels with no predicted samples. Use `zero_division` parameter to control this behavior.\n",
      "  _warn_prf(average, modifier, f\"{metric.capitalize()} is\", len(result))\n",
      "C:\\ProgramData\\anaconda3\\Lib\\site-packages\\sklearn\\metrics\\_classification.py:1565: UndefinedMetricWarning: Precision is ill-defined and being set to 0.0 in labels with no predicted samples. Use `zero_division` parameter to control this behavior.\n",
      "  _warn_prf(average, modifier, f\"{metric.capitalize()} is\", len(result))\n"
     ]
    },
    {
     "name": "stdout",
     "output_type": "stream",
     "text": [
      "Accuracy: 0.4475\n",
      "Classification Report:\n",
      "               precision    recall  f1-score   support\n",
      "\n",
      "           0       0.69      0.46      0.55        24\n",
      "           1       0.43      0.21      0.29        14\n",
      "           2       0.23      0.17      0.19        30\n",
      "           3       0.86      0.94      0.90        66\n",
      "           4       0.31      0.42      0.36        12\n",
      "           5       0.00      0.00      0.00        16\n",
      "           6       0.47      0.72      0.57        25\n",
      "           7       0.43      0.75      0.55        12\n",
      "           8       0.00      0.00      0.00        13\n",
      "           9       0.43      0.43      0.43        28\n",
      "          10       0.18      0.21      0.19        14\n",
      "          11       0.33      0.10      0.15        10\n",
      "          12       0.34      0.55      0.42        53\n",
      "          13       0.00      0.00      0.00        10\n",
      "          14       0.25      0.12      0.17        16\n",
      "          15       0.33      0.35      0.34        52\n",
      "          16       0.25      0.20      0.22         5\n",
      "\n",
      "    accuracy                           0.45       400\n",
      "   macro avg       0.33      0.33      0.31       400\n",
      "weighted avg       0.41      0.45      0.42       400\n",
      "\n",
      "Confusion Matrix:\n",
      " [[11  0  1  0  1  0  0  0  0  0  0  0  5  0  0  6  0]\n",
      " [ 0  3  0  4  0  0  0  1  0  0  5  0  0  0  1  0  0]\n",
      " [ 3  0  5  0  2  1  2  0  0  3  0  0  8  0  0  6  0]\n",
      " [ 0  0  0 62  0  0  0  3  0  0  1  0  0  0  0  0  0]\n",
      " [ 0  0  0  0  5  0  1  0  0  1  0  0  5  0  0  0  0]\n",
      " [ 0  0  2  0  1  0  2  2  0  1  1  0  2  0  2  3  0]\n",
      " [ 0  0  0  0  0  0 18  0  0  1  0  2  4  0  0  0  0]\n",
      " [ 0  1  0  0  0  0  0  9  0  0  1  0  0  0  1  0  0]\n",
      " [ 0  1  1  0  0  2  0  0  0  0  2  0  2  0  1  3  1]\n",
      " [ 0  0  0  0  1  0  3  0  0 12  0  0 10  0  0  2  0]\n",
      " [ 0  2  0  2  0  0  0  3  1  0  3  0  0  0  0  3  0]\n",
      " [ 0  0  0  0  0  0  4  0  0  1  0  1  2  0  0  1  1]\n",
      " [ 0  0  7  0  3  1  5  0  0  4  0  0 29  0  0  4  0]\n",
      " [ 1  0  0  0  1  1  0  1  0  1  1  0  2  0  0  2  0]\n",
      " [ 0  0  3  1  0  0  0  0  0  0  1  0  3  0  2  5  1]\n",
      " [ 1  0  3  3  2  1  3  2  2  1  2  0 13  0  1 18  0]\n",
      " [ 0  0  0  0  0  0  0  0  0  3  0  0  0  0  0  1  1]]\n",
      "==================================================\n",
      "Model: Support Vector Machine\n"
     ]
    },
    {
     "name": "stderr",
     "output_type": "stream",
     "text": [
      "C:\\ProgramData\\anaconda3\\Lib\\site-packages\\sklearn\\metrics\\_classification.py:1565: UndefinedMetricWarning: Precision is ill-defined and being set to 0.0 in labels with no predicted samples. Use `zero_division` parameter to control this behavior.\n",
      "  _warn_prf(average, modifier, f\"{metric.capitalize()} is\", len(result))\n",
      "C:\\ProgramData\\anaconda3\\Lib\\site-packages\\sklearn\\metrics\\_classification.py:1565: UndefinedMetricWarning: Precision is ill-defined and being set to 0.0 in labels with no predicted samples. Use `zero_division` parameter to control this behavior.\n",
      "  _warn_prf(average, modifier, f\"{metric.capitalize()} is\", len(result))\n",
      "C:\\ProgramData\\anaconda3\\Lib\\site-packages\\sklearn\\metrics\\_classification.py:1565: UndefinedMetricWarning: Precision is ill-defined and being set to 0.0 in labels with no predicted samples. Use `zero_division` parameter to control this behavior.\n",
      "  _warn_prf(average, modifier, f\"{metric.capitalize()} is\", len(result))\n"
     ]
    },
    {
     "name": "stdout",
     "output_type": "stream",
     "text": [
      "Accuracy: 0.4350\n",
      "Classification Report:\n",
      "               precision    recall  f1-score   support\n",
      "\n",
      "           0       0.75      0.38      0.50        24\n",
      "           1       0.33      0.21      0.26        14\n",
      "           2       0.13      0.13      0.13        30\n",
      "           3       0.84      0.94      0.89        66\n",
      "           4       0.50      0.08      0.14        12\n",
      "           5       0.00      0.00      0.00        16\n",
      "           6       0.47      0.84      0.60        25\n",
      "           7       0.53      0.67      0.59        12\n",
      "           8       0.00      0.00      0.00        13\n",
      "           9       0.47      0.50      0.48        28\n",
      "          10       0.15      0.21      0.18        14\n",
      "          11       0.00      0.00      0.00        10\n",
      "          12       0.33      0.70      0.45        53\n",
      "          13       0.00      0.00      0.00        10\n",
      "          14       0.00      0.00      0.00        16\n",
      "          15       0.29      0.23      0.26        52\n",
      "          16       0.00      0.00      0.00         5\n",
      "\n",
      "    accuracy                           0.43       400\n",
      "   macro avg       0.28      0.29      0.26       400\n",
      "weighted avg       0.38      0.43      0.39       400\n",
      "\n",
      "Confusion Matrix:\n",
      " [[ 9  0  2  1  0  0  1  0  0  0  0  0  8  0  0  3  0]\n",
      " [ 0  3  0  1  0  0  0  1  0  0  8  0  0  0  0  1  0]\n",
      " [ 2  0  4  0  0  0  2  0  1  4  1  0 12  0  0  4  0]\n",
      " [ 0  1  0 62  0  0  0  0  0  0  2  0  0  0  0  1  0]\n",
      " [ 0  0  0  0  1  0  2  0  0  0  0  0  9  0  0  0  0]\n",
      " [ 0  0  2  1  0  0  2  1  1  1  0  0  3  0  2  3  0]\n",
      " [ 0  0  1  0  0  0 21  0  0  0  0  0  3  0  0  0  0]\n",
      " [ 0  3  0  0  0  0  0  8  0  0  1  0  0  0  0  0  0]\n",
      " [ 0  2  2  1  0  0  0  0  0  0  1  0  2  0  0  5  0]\n",
      " [ 0  0  0  0  0  0  3  0  0 14  0  0 10  0  0  1  0]\n",
      " [ 0  0  1  3  0  0  0  1  2  0  3  0  1  0  0  3  0]\n",
      " [ 0  0  0  0  0  0  6  0  0  0  0  0  4  0  0  0  0]\n",
      " [ 0  0  6  0  0  0  5  0  0  5  0  0 37  0  0  0  0]\n",
      " [ 1  0  0  0  1  0  0  2  0  2  1  0  2  0  0  1  0]\n",
      " [ 0  0  4  1  0  0  0  0  0  0  1  0  5  0  0  5  0]\n",
      " [ 0  0  9  4  0  0  3  2  2  2  2  0 16  0  0 12  0]\n",
      " [ 0  0  0  0  0  0  0  0  0  2  0  0  0  0  0  3  0]]\n",
      "==================================================\n",
      "Model: Random Forest\n",
      "Accuracy: 0.4775\n",
      "Classification Report:\n",
      "               precision    recall  f1-score   support\n",
      "\n",
      "           0       0.65      0.46      0.54        24\n",
      "           1       0.29      0.29      0.29        14\n",
      "           2       0.16      0.17      0.16        30\n",
      "           3       0.90      0.95      0.93        66\n",
      "           4       0.00      0.00      0.00        12\n",
      "           5       0.00      0.00      0.00        16\n",
      "           6       0.62      0.80      0.70        25\n",
      "           7       0.44      0.67      0.53        12\n",
      "           8       0.00      0.00      0.00        13\n",
      "           9       0.48      0.57      0.52        28\n",
      "          10       0.25      0.21      0.23        14\n",
      "          11       0.00      0.00      0.00        10\n",
      "          12       0.44      0.85      0.58        53\n",
      "          13       0.00      0.00      0.00        10\n",
      "          14       0.33      0.06      0.11        16\n",
      "          15       0.27      0.29      0.28        52\n",
      "          16       0.00      0.00      0.00         5\n",
      "\n",
      "    accuracy                           0.48       400\n",
      "   macro avg       0.28      0.31      0.29       400\n",
      "weighted avg       0.41      0.48      0.43       400\n",
      "\n",
      "Confusion Matrix:\n",
      " [[11  0  2  0  0  0  0  0  0  0  0  1  6  0  0  4  0]\n",
      " [ 0  4  0  1  0  0  0  2  1  0  4  0  0  0  0  2  0]\n",
      " [ 1  0  5  0  0  0  1  0  0  3  0  0 12  1  0  7  0]\n",
      " [ 0  1  0 63  0  0  0  1  0  0  1  0  0  0  0  0  0]\n",
      " [ 0  0  1  0  0  0  1  0  0  0  0  0  5  1  0  4  0]\n",
      " [ 0  1  1  0  0  0  0  1  0  2  1  0  3  1  0  5  1]\n",
      " [ 0  0  2  0  0  0 20  0  0  0  0  0  3  0  0  0  0]\n",
      " [ 0  3  0  1  0  0  0  8  0  0  0  0  0  0  0  0  0]\n",
      " [ 0  0  3  0  0  1  0  0  0  0  1  0  1  0  1  6  0]\n",
      " [ 0  0  0  0  0  0  2  0  0 16  0  0 10  0  0  0  0]\n",
      " [ 0  2  1  2  0  0  1  1  0  0  3  0  0  0  0  4  0]\n",
      " [ 0  0  3  0  0  0  3  0  0  2  0  0  2  0  0  0  0]\n",
      " [ 2  0  1  0  0  0  2  0  0  3  0  0 45  0  0  0  0]\n",
      " [ 1  0  1  0  1  0  0  2  0  2  0  0  2  0  0  1  0]\n",
      " [ 0  0  6  0  0  1  0  0  0  0  1  0  2  0  1  5  0]\n",
      " [ 2  3  5  3  0  0  2  3  1  3  1  0 12  1  1 15  0]\n",
      " [ 0  0  0  0  0  1  0  0  0  2  0  0  0  0  0  2  0]]\n",
      "==================================================\n",
      "Model: K-Nearest Neighbors\n",
      "Accuracy: 0.3500\n",
      "Classification Report:\n",
      "               precision    recall  f1-score   support\n",
      "\n",
      "           0       0.29      0.50      0.36        24\n",
      "           1       0.27      0.43      0.33        14\n",
      "           2       0.14      0.23      0.18        30\n",
      "           3       0.86      0.83      0.85        66\n",
      "           4       0.15      0.17      0.16        12\n",
      "           5       0.00      0.00      0.00        16\n",
      "           6       0.45      0.76      0.57        25\n",
      "           7       0.29      0.33      0.31        12\n",
      "           8       0.00      0.00      0.00        13\n",
      "           9       0.27      0.25      0.26        28\n",
      "          10       0.22      0.14      0.17        14\n",
      "          11       0.00      0.00      0.00        10\n",
      "          12       0.29      0.40      0.34        53\n",
      "          13       0.00      0.00      0.00        10\n",
      "          14       0.40      0.12      0.19        16\n",
      "          15       0.12      0.06      0.08        52\n",
      "          16       0.00      0.00      0.00         5\n",
      "\n",
      "    accuracy                           0.35       400\n",
      "   macro avg       0.22      0.25      0.22       400\n",
      "weighted avg       0.32      0.35      0.32       400\n",
      "\n",
      "Confusion Matrix:\n",
      " [[12  0  1  1  3  0  1  1  0  1  1  0  3  0  0  0  0]\n",
      " [ 1  6  0  0  0  1  0  2  0  0  1  0  1  0  0  2  0]\n",
      " [ 4  2  7  1  2  0  2  0  0  3  0  0  6  0  0  3  0]\n",
      " [ 1  3  2 55  0  0  0  1  0  0  2  0  1  0  0  1  0]\n",
      " [ 1  0  4  0  2  0  3  0  0  0  0  0  2  0  0  0  0]\n",
      " [ 0  2  2  0  0  0  2  1  1  0  0  0  4  0  0  4  0]\n",
      " [ 1  0  0  0  0  0 19  0  0  2  0  1  0  0  0  2  0]\n",
      " [ 0  3  2  0  2  0  0  4  0  0  0  0  0  0  1  0  0]\n",
      " [ 1  0  5  0  0  1  0  0  0  0  0  0  3  0  1  1  1]\n",
      " [ 0  0  5  0  1  0  2  0  0  7  0  1 11  0  0  1  0]\n",
      " [ 1  0  1  2  0  2  0  1  2  0  2  0  0  0  0  3  0]\n",
      " [ 0  0  1  0  0  1  4  0  0  0  0  0  4  0  0  0  0]\n",
      " [ 5  2  8  0  2  1  6  0  0  5  0  1 21  1  0  1  0]\n",
      " [ 3  0  1  1  0  0  0  1  0  1  0  0  3  0  0  0  0]\n",
      " [ 2  1  4  1  0  0  1  1  0  1  1  0  0  0  2  2  0]\n",
      " [ 9  3  6  3  1  0  2  2  2  4  2  0 13  1  1  3  0]\n",
      " [ 1  0  0  0  0  0  0  0  0  2  0  0  0  0  0  2  0]]\n",
      "==================================================\n",
      "Model: Decision Tree\n",
      "Accuracy: 0.3800\n",
      "Classification Report:\n",
      "               precision    recall  f1-score   support\n",
      "\n",
      "           0       0.47      0.58      0.52        24\n",
      "           1       0.47      0.50      0.48        14\n",
      "           2       0.14      0.17      0.15        30\n",
      "           3       0.89      0.82      0.85        66\n",
      "           4       0.11      0.17      0.13        12\n",
      "           5       0.00      0.00      0.00        16\n",
      "           6       0.68      0.76      0.72        25\n",
      "           7       0.29      0.33      0.31        12\n",
      "           8       0.08      0.08      0.08        13\n",
      "           9       0.41      0.43      0.42        28\n",
      "          10       0.08      0.07      0.07        14\n",
      "          11       0.00      0.00      0.00        10\n",
      "          12       0.40      0.36      0.38        53\n",
      "          13       0.09      0.10      0.10        10\n",
      "          14       0.29      0.12      0.17        16\n",
      "          15       0.20      0.21      0.20        52\n",
      "          16       0.00      0.00      0.00         5\n",
      "\n",
      "    accuracy                           0.38       400\n",
      "   macro avg       0.27      0.28      0.27       400\n",
      "weighted avg       0.38      0.38      0.38       400\n",
      "\n",
      "Confusion Matrix:\n",
      " [[14  0  1  0  0  1  1  0  0  0  0  1  2  1  0  3  0]\n",
      " [ 0  7  0  1  0  1  0  0  1  0  0  0  0  0  0  4  0]\n",
      " [ 4  0  5  0  3  2  0  0  0  4  1  1  5  1  1  3  0]\n",
      " [ 0  1  0 54  0  0  0  4  0  0  6  0  0  0  0  1  0]\n",
      " [ 2  0  0  0  2  1  0  0  0  0  0  0  3  0  0  2  2]\n",
      " [ 0  1  2  1  1  0  0  0  1  2  0  0  0  1  1  5  1]\n",
      " [ 0  0  2  0  0  0 19  0  0  2  0  0  0  1  0  1  0]\n",
      " [ 0  1  0  2  0  1  0  4  0  0  3  0  0  0  0  1  0]\n",
      " [ 1  1  1  0  0  1  0  0  1  0  2  0  0  0  0  6  0]\n",
      " [ 1  0  5  0  1  1  1  0  0 12  0  0  4  0  0  3  0]\n",
      " [ 0  3  1  2  0  0  0  1  1  0  1  0  0  0  1  4  0]\n",
      " [ 1  0  1  0  0  0  2  0  0  2  0  0  2  0  0  1  1]\n",
      " [ 4  0  7  0  6  0  5  0  0  2  0  0 19  6  0  3  1]\n",
      " [ 0  0  0  0  1  1  0  1  0  2  0  0  1  1  1  2  0]\n",
      " [ 0  0  6  0  2  0  0  0  1  0  0  0  1  0  2  4  0]\n",
      " [ 3  1  6  1  3  2  0  4  6  2  0  0 10  0  1 11  2]\n",
      " [ 0  0  0  0  0  1  0  0  1  1  0  0  0  0  0  2  0]]\n",
      "==================================================\n",
      "Model: Naive Bayes\n"
     ]
    },
    {
     "name": "stderr",
     "output_type": "stream",
     "text": [
      "C:\\ProgramData\\anaconda3\\Lib\\site-packages\\sklearn\\metrics\\_classification.py:1565: UndefinedMetricWarning: Precision is ill-defined and being set to 0.0 in labels with no predicted samples. Use `zero_division` parameter to control this behavior.\n",
      "  _warn_prf(average, modifier, f\"{metric.capitalize()} is\", len(result))\n",
      "C:\\ProgramData\\anaconda3\\Lib\\site-packages\\sklearn\\metrics\\_classification.py:1565: UndefinedMetricWarning: Precision is ill-defined and being set to 0.0 in labels with no predicted samples. Use `zero_division` parameter to control this behavior.\n",
      "  _warn_prf(average, modifier, f\"{metric.capitalize()} is\", len(result))\n",
      "C:\\ProgramData\\anaconda3\\Lib\\site-packages\\sklearn\\metrics\\_classification.py:1565: UndefinedMetricWarning: Precision is ill-defined and being set to 0.0 in labels with no predicted samples. Use `zero_division` parameter to control this behavior.\n",
      "  _warn_prf(average, modifier, f\"{metric.capitalize()} is\", len(result))\n"
     ]
    },
    {
     "name": "stdout",
     "output_type": "stream",
     "text": [
      "Accuracy: 0.2775\n",
      "Classification Report:\n",
      "               precision    recall  f1-score   support\n",
      "\n",
      "           0       0.57      0.17      0.26        24\n",
      "           1       1.00      0.07      0.13        14\n",
      "           2       0.50      0.03      0.06        30\n",
      "           3       0.92      0.68      0.78        66\n",
      "           4       0.07      0.92      0.13        12\n",
      "           5       0.00      0.00      0.00        16\n",
      "           6       0.54      0.52      0.53        25\n",
      "           7       0.00      0.00      0.00        12\n",
      "           8       0.00      0.00      0.00        13\n",
      "           9       0.64      0.32      0.43        28\n",
      "          10       0.33      0.07      0.12        14\n",
      "          11       0.50      0.10      0.17        10\n",
      "          12       0.40      0.08      0.13        53\n",
      "          13       0.00      0.00      0.00        10\n",
      "          14       0.13      1.00      0.23        16\n",
      "          15       0.56      0.10      0.16        52\n",
      "          16       0.00      0.00      0.00         5\n",
      "\n",
      "    accuracy                           0.28       400\n",
      "   macro avg       0.36      0.24      0.18       400\n",
      "weighted avg       0.49      0.28      0.28       400\n",
      "\n",
      "Confusion Matrix:\n",
      " [[ 4  0  0  0  8  0  0  0  0  0  0  0  0  0 12  0  0]\n",
      " [ 0  1  0  0  3  0  0  0  0  0  0  0  0  0 10  0  0]\n",
      " [ 2  0  1  0 13  0  1  0  0  2  0  0  1  0 10  0  0]\n",
      " [ 0  0  0 45  7  0  0  1  0  0  2  0  0  0 11  0  0]\n",
      " [ 0  0  0  0 11  0  1  0  0  0  0  0  0  0  0  0  0]\n",
      " [ 0  0  0  0  5  0  2  0  0  0  0  0  0  0  8  1  0]\n",
      " [ 0  0  0  0  9  0 13  0  0  0  0  0  0  1  2  0  0]\n",
      " [ 0  0  0  0  7  0  0  0  0  0  0  0  0  0  5  0  0]\n",
      " [ 0  0  0  0  3  1  0  0  0  0  0  0  0  0  9  0  0]\n",
      " [ 0  0  0  0 16  0  1  0  0  9  0  0  1  0  1  0  0]\n",
      " [ 0  0  0  2  5  0  0  0  0  0  1  0  0  0  3  3  0]\n",
      " [ 0  0  0  0  4  0  4  0  0  0  0  1  1  0  0  0  0]\n",
      " [ 1  0  1  0 30  0  2  0  0  2  0  1  4  0 12  0  0]\n",
      " [ 0  0  0  0  7  0  0  0  0  0  0  0  0  0  3  0  0]\n",
      " [ 0  0  0  0  0  0  0  0  0  0  0  0  0  0 16  0  0]\n",
      " [ 0  0  0  2 22  0  0  0  0  1  0  0  3  0 19  5  0]\n",
      " [ 0  0  0  0  3  0  0  0  0  0  0  0  0  0  2  0  0]]\n",
      "==================================================\n",
      "Model: AdaBoost\n",
      "Accuracy: 0.3250\n",
      "Classification Report:\n",
      "               precision    recall  f1-score   support\n",
      "\n",
      "           0       1.00      0.33      0.50        24\n",
      "           1       0.00      0.00      0.00        14\n",
      "           2       0.00      0.00      0.00        30\n",
      "           3       0.58      1.00      0.73        66\n",
      "           4       0.00      0.00      0.00        12\n",
      "           5       0.00      0.00      0.00        16\n",
      "           6       0.00      0.00      0.00        25\n",
      "           7       0.00      0.00      0.00        12\n",
      "           8       0.00      0.00      0.00        13\n",
      "           9       0.00      0.00      0.00        28\n",
      "          10       0.00      0.00      0.00        14\n",
      "          11       0.00      0.00      0.00        10\n",
      "          12       0.21      0.60      0.31        53\n",
      "          13       0.00      0.00      0.00        10\n",
      "          14       0.00      0.00      0.00        16\n",
      "          15       0.20      0.46      0.27        52\n",
      "          16       0.00      0.00      0.00         5\n",
      "\n",
      "    accuracy                           0.33       400\n",
      "   macro avg       0.12      0.14      0.11       400\n",
      "weighted avg       0.21      0.33      0.23       400\n",
      "\n",
      "Confusion Matrix:\n",
      " [[ 8  0  2  0  0  0  0  0  0  0  0  0  4  0  0 10  0]\n",
      " [ 0  0  0 14  0  0  0  0  0  0  0  0  0  0  0  0  0]\n",
      " [ 0  0  0  0  0  0  0  0  0  0  0  0 14  0  0 16  0]\n",
      " [ 0  0  0 66  0  0  0  0  0  0  0  0  0  0  0  0  0]\n",
      " [ 0  0  0  0  0  0  0  0  0  0  0  0  7  0  0  5  0]\n",
      " [ 0  0  0  3  0  0  0  0  0  0  0  0  5  0  0  8  0]\n",
      " [ 0  0  0  0  0  0  0  0  0  0  0  0 25  0  0  0  0]\n",
      " [ 0  0  0 12  0  0  0  0  0  0  0  0  0  0  0  0  0]\n",
      " [ 0  0  0  1  0  0  0  0  0  0  0  0  0  0  0 12  0]\n",
      " [ 0  0  0  0  0  0  0  0  0  0  0  0 28  0  0  0  0]\n",
      " [ 0  0  0  7  0  0  0  0  0  0  0  0  0  0  0  7  0]\n",
      " [ 0  0  0  0  0  0  0  0  0  0  0  0 10  0  0  0  0]\n",
      " [ 0  0  0  0  0  0  0  0  0  0  0  0 32  0  0 21  0]\n",
      " [ 0  0  0  2  0  0  0  0  0  0  0  0  5  0  0  3  0]\n",
      " [ 0  0  0  0  0  0  0  0  0  0  0  0  0  0  0 16  0]\n",
      " [ 0  0  0  9  0  0  0  0  0  0  0  0 19  0  0 24  0]\n",
      " [ 0  0  0  0  0  0  0  0  0  0  0  0  4  0  0  1  0]]\n"
     ]
    },
    {
     "name": "stderr",
     "output_type": "stream",
     "text": [
      "C:\\ProgramData\\anaconda3\\Lib\\site-packages\\sklearn\\metrics\\_classification.py:1565: UndefinedMetricWarning: Precision is ill-defined and being set to 0.0 in labels with no predicted samples. Use `zero_division` parameter to control this behavior.\n",
      "  _warn_prf(average, modifier, f\"{metric.capitalize()} is\", len(result))\n",
      "C:\\ProgramData\\anaconda3\\Lib\\site-packages\\sklearn\\metrics\\_classification.py:1565: UndefinedMetricWarning: Precision is ill-defined and being set to 0.0 in labels with no predicted samples. Use `zero_division` parameter to control this behavior.\n",
      "  _warn_prf(average, modifier, f\"{metric.capitalize()} is\", len(result))\n",
      "C:\\ProgramData\\anaconda3\\Lib\\site-packages\\sklearn\\metrics\\_classification.py:1565: UndefinedMetricWarning: Precision is ill-defined and being set to 0.0 in labels with no predicted samples. Use `zero_division` parameter to control this behavior.\n",
      "  _warn_prf(average, modifier, f\"{metric.capitalize()} is\", len(result))\n"
     ]
    }
   ],
   "source": [
    "from sklearn.metrics import accuracy_score, classification_report, confusion_matrix\n",
    "from sklearn.linear_model import LogisticRegression\n",
    "from sklearn.svm import SVC\n",
    "from sklearn.ensemble import RandomForestClassifier\n",
    "from sklearn.neighbors import KNeighborsClassifier\n",
    "from sklearn.tree import DecisionTreeClassifier\n",
    "from sklearn.naive_bayes import GaussianNB\n",
    "from sklearn.ensemble import AdaBoostClassifier\n",
    "\n",
    "models = {\n",
    "    'Logistic Regression': LogisticRegression(random_state=42),\n",
    "    'Support Vector Machine': SVC(random_state=42),\n",
    "    'Random Forest': RandomForestClassifier(random_state=42),\n",
    "    'K-Nearest Neighbors': KNeighborsClassifier(),\n",
    "    'Decision Tree': DecisionTreeClassifier(random_state=42),\n",
    "    'Naive Bayes': GaussianNB(),\n",
    "    'AdaBoost': AdaBoostClassifier(random_state=42)\n",
    "}\n",
    "\n",
    "# Train and evaluate each model\n",
    "for name, model in models.items():\n",
    "    print(\"=\"*50)\n",
    "    print(\"Model:\", name)\n",
    "    # Train the model\n",
    "    model.fit(X_train_scaled, y_train)\n",
    "\n",
    "    # Predict on test set\n",
    "    y_pred = model.predict(X_test_scaled)\n",
    "\n",
    "    # Calculate metrics\n",
    "    accuracy = accuracy_score(y_test, y_pred)\n",
    "    classification_rep = classification_report(y_test, y_pred)\n",
    "    conf_matrix = confusion_matrix(y_test, y_pred)\n",
    "\n",
    "    print(f\"Accuracy: {accuracy:.4f}\")\n",
    "    print(\"Classification Report:\\n\", classification_rep)\n",
    "    print(\"Confusion Matrix:\\n\", conf_matrix)\n"
   ]
  },
  {
   "cell_type": "code",
   "execution_count": 16,
   "metadata": {
    "colab": {
     "base_uri": "https://localhost:8080/"
    },
    "id": "IFcDBAUCn2yb",
    "outputId": "dcfafdd8-d5f8-46ea-befe-1c4e4148de23"
   },
   "outputs": [
    {
     "name": "stdout",
     "output_type": "stream",
     "text": [
      "Accuracy:  0.4775\n",
      "Report:                precision    recall  f1-score   support\n",
      "\n",
      "           0       0.65      0.46      0.54        24\n",
      "           1       0.29      0.29      0.29        14\n",
      "           2       0.16      0.17      0.16        30\n",
      "           3       0.90      0.95      0.93        66\n",
      "           4       0.00      0.00      0.00        12\n",
      "           5       0.00      0.00      0.00        16\n",
      "           6       0.62      0.80      0.70        25\n",
      "           7       0.44      0.67      0.53        12\n",
      "           8       0.00      0.00      0.00        13\n",
      "           9       0.48      0.57      0.52        28\n",
      "          10       0.25      0.21      0.23        14\n",
      "          11       0.00      0.00      0.00        10\n",
      "          12       0.44      0.85      0.58        53\n",
      "          13       0.00      0.00      0.00        10\n",
      "          14       0.33      0.06      0.11        16\n",
      "          15       0.27      0.29      0.28        52\n",
      "          16       0.00      0.00      0.00         5\n",
      "\n",
      "    accuracy                           0.48       400\n",
      "   macro avg       0.28      0.31      0.29       400\n",
      "weighted avg       0.41      0.48      0.43       400\n",
      "\n",
      "Confusion Matrix:  [[11  0  2  0  0  0  0  0  0  0  0  1  6  0  0  4  0]\n",
      " [ 0  4  0  1  0  0  0  2  1  0  4  0  0  0  0  2  0]\n",
      " [ 1  0  5  0  0  0  1  0  0  3  0  0 12  1  0  7  0]\n",
      " [ 0  1  0 63  0  0  0  1  0  0  1  0  0  0  0  0  0]\n",
      " [ 0  0  1  0  0  0  1  0  0  0  0  0  5  1  0  4  0]\n",
      " [ 0  1  1  0  0  0  0  1  0  2  1  0  3  1  0  5  1]\n",
      " [ 0  0  2  0  0  0 20  0  0  0  0  0  3  0  0  0  0]\n",
      " [ 0  3  0  1  0  0  0  8  0  0  0  0  0  0  0  0  0]\n",
      " [ 0  0  3  0  0  1  0  0  0  0  1  0  1  0  1  6  0]\n",
      " [ 0  0  0  0  0  0  2  0  0 16  0  0 10  0  0  0  0]\n",
      " [ 0  2  1  2  0  0  1  1  0  0  3  0  0  0  0  4  0]\n",
      " [ 0  0  3  0  0  0  3  0  0  2  0  0  2  0  0  0  0]\n",
      " [ 2  0  1  0  0  0  2  0  0  3  0  0 45  0  0  0  0]\n",
      " [ 1  0  1  0  1  0  0  2  0  2  0  0  2  0  0  1  0]\n",
      " [ 0  0  6  0  0  1  0  0  0  0  1  0  2  0  1  5  0]\n",
      " [ 2  3  5  3  0  0  2  3  1  3  1  0 12  1  1 15  0]\n",
      " [ 0  0  0  0  0  1  0  0  0  2  0  0  0  0  0  2  0]]\n"
     ]
    }
   ],
   "source": [
    "from sklearn.ensemble import RandomForestClassifier\n",
    "from sklearn.metrics import accuracy_score, classification_report, confusion_matrix\n",
    "\n",
    "model= RandomForestClassifier(random_state=42)\n",
    "\n",
    "model.fit(X_train_scaled, y_train)\n",
    "\n",
    "# Predict on test set\n",
    "y_pred = model.predict(X_test_scaled)\n",
    "\n",
    "# Calculate metrics\n",
    "print(\"Accuracy: \", accuracy_score(y_test, y_pred))\n",
    "print(\"Report: \", classification_report(y_test, y_pred))\n",
    "print(\"Confusion Matrix: \", confusion_matrix(y_test, y_pred))"
   ]
  },
  {
   "cell_type": "code",
   "execution_count": 17,
   "metadata": {
    "colab": {
     "base_uri": "https://localhost:8080/"
    },
    "id": "uS8t3FMYoT9I",
    "outputId": "b90ce6e0-5ee4-4d1d-b4b2-c80a8e5e93c3"
   },
   "outputs": [
    {
     "name": "stdout",
     "output_type": "stream",
     "text": [
      "Actual Label : 15\n",
      "Model Prediction : 12\n",
      "not sure......\n"
     ]
    }
   ],
   "source": [
    "# test 1\n",
    "print(\"Actual Label :\", y_test.iloc[10])  # Print the actual label for the 10th data point in the test set\n",
    "print(\"Model Prediction :\", model.predict(X_test_scaled[10].reshape(1,-1))[0])  # Print the model's prediction for the 10th data point (reshaped to 2D)\n",
    "\n",
    "# Check if the actual label matches the predicted label\n",
    "if y_test.iloc[10] == model.predict(X_test_scaled[10].reshape(1,-1))[0]:\n",
    "    print(\"Wow! Model doing well.....\")  # Print a positive message if the prediction is correct\n",
    "else:\n",
    "    print(\"not sure......\")  # Print a less confident message if the prediction is incorrect"
   ]
  },
  {
   "cell_type": "code",
   "execution_count": 18,
   "metadata": {
    "colab": {
     "base_uri": "https://localhost:8080/"
    },
    "id": "OV3FxycCogrl",
    "outputId": "d2156f4f-6ac3-4098-d5e9-d479746cb0ff"
   },
   "outputs": [
    {
     "name": "stdout",
     "output_type": "stream",
     "text": [
      "Actual Label : 12\n",
      "Model Prediction : 12\n",
      "not sure......\n"
     ]
    }
   ],
   "source": [
    "# test 2\n",
    "print(\"Actual Label :\", y_test.iloc[90])  # Print the actual label for the 10th data point in the test set\n",
    "print(\"Model Prediction :\", model.predict(X_test_scaled[90].reshape(1,-1))[0])  # Print the model's prediction for the 10th data point (reshaped to 2D)\n",
    "\n",
    "# Check if the actual label matches the predicted label\n",
    "if y_test.iloc[10] == model.predict(X_test_scaled[10].reshape(1,-1))[0]:\n",
    "    print(\"Wow! Model doing well.....\")  # Print a positive message if the prediction is correct\n",
    "else:\n",
    "    print(\"not sure......\")  # Print a less confident message if the prediction is incorrect"
   ]
  },
  {
   "cell_type": "code",
   "execution_count": 19,
   "metadata": {
    "colab": {
     "base_uri": "https://localhost:8080/"
    },
    "id": "2NjCidH_o-5k",
    "outputId": "0ec776cb-cc4b-44bf-d617-81922b0fbb62"
   },
   "outputs": [
    {
     "name": "stdout",
     "output_type": "stream",
     "text": [
      "Actual Label : 3\n",
      "Model Prediction : 3\n",
      "not sure......\n"
     ]
    }
   ],
   "source": [
    "# test 3\n",
    "print(\"Actual Label :\", y_test.iloc[69])  # Print the actual label for the 10th data point in the test set\n",
    "print(\"Model Prediction :\", model.predict(X_test_scaled[69].reshape(1,-1))[0])  # Print the model's prediction for the 10th data point (reshaped to 2D)\n",
    "\n",
    "# Check if the actual label matches the predicted label\n",
    "if y_test.iloc[10] == model.predict(X_test_scaled[10].reshape(1,-1))[0]:\n",
    "    print(\"Wow! Model doing well.....\")  # Print a positive message if the prediction is correct\n",
    "else:\n",
    "    print(\"not sure......\")  # Print a less confident message if the prediction is incorrect"
   ]
  },
  {
   "cell_type": "code",
   "execution_count": 20,
   "metadata": {
    "colab": {
     "base_uri": "https://localhost:8080/"
    },
    "id": "Ykiyvxapp-aA",
    "outputId": "025e0bda-11ff-4602-df3f-a98ade0deedb"
   },
   "outputs": [],
   "source": [
    "!mkdir Models"
   ]
  },
  {
   "cell_type": "code",
   "execution_count": 21,
   "metadata": {
    "id": "PhBZFiNEqxR4"
   },
   "outputs": [],
   "source": [
    "import pickle\n",
    "\n",
    "# Save the scaler and model\n",
    "pickle.dump(scaler, open(\"Models/scaler.pkl\", 'wb'))\n",
    "pickle.dump(model, open(\"Models/model.pkl\", 'wb'))"
   ]
  },
  {
   "cell_type": "code",
   "execution_count": 22,
   "metadata": {
    "id": "iM2DrUwfrhem"
   },
   "outputs": [],
   "source": [
    "# Load the scaler and model\n",
    "scaler = pickle.load(open(\"Models/scaler.pkl\", 'rb'))\n",
    "model = pickle.load(open(\"Models/model.pkl\", 'rb'))"
   ]
  },
  {
   "cell_type": "code",
   "execution_count": 23,
   "metadata": {
    "id": "dY5Vrxh6rksK"
   },
   "outputs": [],
   "source": [
    "import pickle\n",
    "import numpy as np\n",
    "\n",
    "# Load the scaler, model, and class names\n",
    "scaler = pickle.load(open(\"Models/scaler.pkl\", 'rb'))\n",
    "model = pickle.load(open(\"Models/model.pkl\", 'rb'))\n",
    "class_names = ['Lawyer', 'Doctor', 'Government Officer', 'Artist', 'Unknown',\n",
    "               'Software Engineer', 'Teacher', 'Business Owner', 'Scientist',\n",
    "               'Banker', 'Writer', 'Accountant', 'Designer',\n",
    "               'Construction Engineer', 'Game Developer', 'Stock Investor',\n",
    "               'Real Estate Developer']\n",
    "\n",
    "def Recommendations(gender, part_time_job, absence_days, extracurricular_activities,\n",
    "                    weekly_self_study_hours, math_score, history_score, physics_score,\n",
    "                    chemistry_score, biology_score, english_score, geography_score,\n",
    "                    total_score, average_score):\n",
    "\n",
    "    try:\n",
    "        # Validate and encode categorical variables\n",
    "        if gender.lower() not in ['male', 'female']:\n",
    "            raise ValueError(\"Gender should be 'male' or 'female'\")\n",
    "\n",
    "        # Encoding: male = 1, female = 0\n",
    "        gender_encoded = 1 if gender.lower() == 'male' else 0\n",
    "\n",
    "        # Encoding: part_time_job: False = 0, True = 1\n",
    "        part_time_job_encoded = 1 if part_time_job else 0\n",
    "\n",
    "        # Encoding: extracurricular_activities: False = 0, True = 1\n",
    "        extracurricular_activities_encoded = 1 if extracurricular_activities else 0\n",
    "\n",
    "        # Create feature array\n",
    "        feature_array = np.array([[gender_encoded, part_time_job_encoded, absence_days, extracurricular_activities_encoded,\n",
    "                                   weekly_self_study_hours, math_score, history_score, physics_score,\n",
    "                                   chemistry_score, biology_score, english_score, geography_score, total_score, average_score]])\n",
    "\n",
    "        # Scale features\n",
    "        scaled_features = scaler.transform(feature_array)\n",
    "\n",
    "        # Predict using the model\n",
    "        probabilities = model.predict_proba(scaled_features)\n",
    "\n",
    "        # Get top five predicted classes along with their probabilities\n",
    "        top_classes_idx = np.argsort(-probabilities[0])[:5]\n",
    "        top_classes_names_probs = [(class_names[idx], probabilities[0][idx]) for idx in top_classes_idx]\n",
    "\n",
    "        return top_classes_names_probs\n",
    "\n",
    "    except Exception as e:\n",
    "        return f\"An error occurred: {str(e)}\"\n"
   ]
  },
  {
   "cell_type": "code",
   "execution_count": 24,
   "metadata": {
    "colab": {
     "base_uri": "https://localhost:8080/"
    },
    "id": "ywhGDR8tu23B",
    "outputId": "c5388a6d-4351-4ca8-bc26-456d4281dad9",
    "scrolled": true
   },
   "outputs": [
    {
     "name": "stdout",
     "output_type": "stream",
     "text": [
      "Top recommended studies with probabilities:\n",
      "==================================================\n",
      "Game Developer with probability 0.74\n",
      "Stock Investor with probability 0.15\n",
      "Scientist with probability 0.05\n",
      "Writer with probability 0.02\n",
      "Artist with probability 0.01\n"
     ]
    },
    {
     "name": "stderr",
     "output_type": "stream",
     "text": [
      "C:\\ProgramData\\anaconda3\\Lib\\site-packages\\sklearn\\utils\\validation.py:2739: UserWarning: X does not have valid feature names, but StandardScaler was fitted with feature names\n",
      "  warnings.warn(\n"
     ]
    }
   ],
   "source": [
    "# Example usage 1\n",
    "final_recommendations = Recommendations(\n",
    "    gender='female',\n",
    "    part_time_job=False,\n",
    "    absence_days=2,\n",
    "    extracurricular_activities=False,\n",
    "    weekly_self_study_hours=7,\n",
    "    math_score=65,\n",
    "    history_score=60,\n",
    "    physics_score=97,\n",
    "    chemistry_score=94,\n",
    "    biology_score=71,\n",
    "    english_score=81,\n",
    "    geography_score=66,\n",
    "    total_score=534,\n",
    "    average_score=76.285714\n",
    ")\n",
    "\n",
    "print(\"Top recommended studies with probabilities:\")\n",
    "print(\"=\"*50)\n",
    "for class_name, probability in final_recommendations:\n",
    "    print(f\"{class_name} with probability {probability:.2f}\")"
   ]
  },
  {
   "cell_type": "code",
   "execution_count": 27,
   "metadata": {
    "colab": {
     "base_uri": "https://localhost:8080/"
    },
    "id": "fpFUiJXHwJBI",
    "outputId": "34037ce6-bf06-4284-9975-0e423672d016"
   },
   "outputs": [
    {
     "name": "stdout",
     "output_type": "stream",
     "text": [
      "Top recommended studies with probabilities:\n",
      "==================================================\n",
      "Artist with probability 0.85\n",
      "Lawyer with probability 0.07\n",
      "Doctor with probability 0.02\n",
      "Business Owner with probability 0.02\n",
      "Stock Investor with probability 0.02\n"
     ]
    },
    {
     "name": "stderr",
     "output_type": "stream",
     "text": [
      "C:\\ProgramData\\anaconda3\\Lib\\site-packages\\sklearn\\utils\\validation.py:2739: UserWarning: X does not have valid feature names, but StandardScaler was fitted with feature names\n",
      "  warnings.warn(\n"
     ]
    }
   ],
   "source": [
    "# Example usage 2\n",
    "final_recommendations = Recommendations(\n",
    "    gender='female',\n",
    "    part_time_job=False,\n",
    "    absence_days=2,\n",
    "    extracurricular_activities=False,\n",
    "    weekly_self_study_hours=0,\n",
    "    math_score=15,\n",
    "    history_score=18,\n",
    "    physics_score=28,\n",
    "    chemistry_score=90,\n",
    "    biology_score=25,\n",
    "    english_score=30,\n",
    "    geography_score=10,\n",
    "    total_score=229,\n",
    "    average_score=35.571429\n",
    ")\n",
    "\n",
    "print(\"Top recommended studies with probabilities:\")\n",
    "print(\"=\"*50)\n",
    "for class_name, probability in final_recommendations:\n",
    "    print(f\"{class_name} with probability {probability:.2f}\")"
   ]
  },
  {
   "cell_type": "code",
   "execution_count": 87,
   "metadata": {
    "colab": {
     "base_uri": "https://localhost:8080/"
    },
    "id": "27ZY7DA2w-Bh",
    "outputId": "b8df156c-8d4a-4796-fafa-fea1c25c1c15"
   },
   "outputs": [
    {
     "name": "stdout",
     "output_type": "stream",
     "text": [
      "1.5.2\n"
     ]
    }
   ],
   "source": [
    "# sklear version in pychar production\n",
    "import sklearn\n",
    "print(sklearn.__version__)\n",
    "# in pycharm env install\n",
    "# pip install scikit-learn==1.3.2"
   ]
  },
  {
   "cell_type": "code",
   "execution_count": null,
   "metadata": {
    "id": "vR0gIJQayfvO"
   },
   "outputs": [],
   "source": []
  }
 ],
 "metadata": {
  "colab": {
   "provenance": []
  },
  "kernelspec": {
   "display_name": "Python [conda env:base] *",
   "language": "python",
   "name": "conda-base-py"
  },
  "language_info": {
   "codemirror_mode": {
    "name": "ipython",
    "version": 3
   },
   "file_extension": ".py",
   "mimetype": "text/x-python",
   "name": "python",
   "nbconvert_exporter": "python",
   "pygments_lexer": "ipython3",
   "version": "3.13.5"
  }
 },
 "nbformat": 4,
 "nbformat_minor": 4
}
